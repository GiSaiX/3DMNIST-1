{
 "cells": [
  {
   "cell_type": "code",
   "execution_count": 1,
   "metadata": {},
   "outputs": [
    {
     "name": "stderr",
     "output_type": "stream",
     "text": [
      "/usr/lib/python3/dist-packages/h5py/__init__.py:36: FutureWarning: Conversion of the second argument of issubdtype from `float` to `np.floating` is deprecated. In future, it will be treated as `np.float64 == np.dtype(float).type`.\n",
      "  from ._conv import register_converters as _register_converters\n"
     ]
    }
   ],
   "source": [
    "import gzip\n",
    "import h5py\n",
    "import pickle\n",
    "import os\n",
    "import numpy as np\n",
    "\n",
    "try:\n",
    "    from tqdm import trange\n",
    "except ImportError:\n",
    "    trange = range\n",
    "    \n",
    "from matplotlib import pyplot as plt\n",
    "\n",
    "%matplotlib inline\n",
    "plt.rcParams['image.interpolation'] = None\n",
    "plt.rcParams['image.cmap'] = 'gray'"
   ]
  },
  {
   "cell_type": "code",
   "execution_count": 18,
   "metadata": {},
   "outputs": [],
   "source": [
    "with gzip.open('data/mnist.pkl.gz','rb') as ff :     \n",
    "    u = pickle._Unpickler( ff )\n",
    "    u.encoding = 'latin1'\n",
    "    train_set, val_set, test_set = u.load()\n"
   ]
  },
  {
   "cell_type": "code",
   "execution_count": 52,
   "metadata": {},
   "outputs": [
    {
     "name": "stdout",
     "output_type": "stream",
     "text": [
      "(50000, 784)\n",
      "(10000, 784)\n",
      "(10000, 784)\n"
     ]
    }
   ],
   "source": [
    "print(train_set[0].shape)\n",
    "print(val_set[0].shape)\n",
    "print(test_set[0].shape)"
   ]
  },
  {
   "cell_type": "code",
   "execution_count": 58,
   "metadata": {},
   "outputs": [
    {
     "name": "stdout",
     "output_type": "stream",
     "text": [
      "(125, 2)\n",
      "(50, 2)\n"
     ]
    },
    {
     "data": {
      "text/plain": [
       "<matplotlib.image.AxesImage at 0x7fdb1a50f208>"
      ]
     },
     "execution_count": 58,
     "metadata": {},
     "output_type": "execute_result"
    },
    {
     "data": {
      "image/png": "[encoded data removed]",
      "text/plain": [
       "<matplotlib.figure.Figure at 0x7fdb1a5b9748>"
      ]
     },
     "metadata": {},
     "output_type": "display_data"
    }
   ],
   "source": [
    "sampleImg = train_set[0][1].reshape(28,28)\n",
    "sampleImg[sampleImg < 0.5] = 0\n",
    "plt.imshow(sampleImg)\n",
    "\n",
    "non_zero_coord = np.transpose(np.nonzero(sampleImg))\n",
    "print(non_zero_coord.shape)\n",
    "\n",
    "s_indices = np.random.choice(len(non_zero_coord), 50)\n",
    "s_non_zero_coord = non_zero_coord[s_indices]\n",
    "\n",
    "ds_img = np.zeros((28,28))\n",
    "ds_img[s_non_zero_coord[:,0],s_non_zero_coord[:,1]] = 1.0\n",
    "\n",
    "print(s_non_zero_coord.shape)\n",
    "\n",
    "plt.imshow(ds_img)"
   ]
  },
  {
   "cell_type": "code",
   "execution_count": null,
   "metadata": {},
   "outputs": [],
   "source": []
  }
 ],
 "metadata": {
  "kernelspec": {
   "display_name": "Python 3",
   "language": "python",
   "name": "python3"
  },
  "language_info": {
   "codemirror_mode": {
    "name": "ipython",
    "version": 3
   },
   "file_extension": ".py",
   "mimetype": "text/x-python",
   "name": "python",
   "nbconvert_exporter": "python",
   "pygments_lexer": "ipython3",
   "version": "3.6.8"
  }
 },
 "nbformat": 4,
 "nbformat_minor": 2
}
