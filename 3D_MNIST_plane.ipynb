{
 "cells": [
  {
   "cell_type": "code",
   "execution_count": 34,
   "metadata": {},
   "outputs": [],
   "source": [
    "import gzip\n",
    "import h5py\n",
    "import pickle\n",
    "import os\n",
    "import numpy as np\n",
    "from farthest_point_sampling import img_to_point_cloud\n",
    "\n",
    "try:\n",
    "    from tqdm import trange\n",
    "except ImportError:\n",
    "    trange = range\n",
    "\n",
    "from mpl_toolkits.mplot3d import Axes3D\n",
    "from matplotlib import pyplot as plt\n",
    "\n",
    "%matplotlib inline\n",
    "plt.rcParams['image.interpolation'] = None\n",
    "plt.rcParams['image.cmap'] = 'gray'"
   ]
  },
  {
   "cell_type": "code",
   "execution_count": 35,
   "metadata": {},
   "outputs": [],
   "source": [
    "with gzip.open('data/mnist.pkl.gz','rb') as ff :     \n",
    "    u = pickle._Unpickler( ff )\n",
    "    u.encoding = 'latin1'\n",
    "    train_set, valid_set, test_set = u.load()\n"
   ]
  },
  {
   "cell_type": "code",
   "execution_count": 36,
   "metadata": {},
   "outputs": [
    {
     "name": "stdout",
     "output_type": "stream",
     "text": [
      "(50000, 784)\n",
      "(10000, 784)\n",
      "(10000, 784)\n"
     ]
    }
   ],
   "source": [
    "print(train_set[0].shape)\n",
    "print(valid_set[0].shape)\n",
    "print(test_set[0].shape)"
   ]
  },
  {
   "cell_type": "code",
   "execution_count": 37,
   "metadata": {},
   "outputs": [
    {
     "name": "stdout",
     "output_type": "stream",
     "text": [
      "Digit label:  7\n"
     ]
    },
    {
     "data": {
      "image/png": "[encoded data removed]",
      "text/plain": [
       "<Figure size 432x288 with 1 Axes>"
      ]
     },
     "metadata": {
      "needs_background": "light"
     },
     "output_type": "display_data"
    }
   ],
   "source": [
    "# test sample images and hyperparameters\n",
    "k=30\n",
    "idx = 34568\n",
    "\n",
    "img = train_set[0][idx].reshape(28,28)\n",
    "label = train_set[1][idx]\n",
    "print('Digit label: ',label)\n",
    "\n",
    "cloud_3D = img_to_point_cloud(img,k)\n",
    "\n",
    "fig = plt.figure()\n",
    "ax = fig.add_subplot(111, projection='3d')\n",
    "ax.scatter(cloud_3D[:,0], cloud_3D[:,1], cloud_3D[:,2], color='r', marker='o')\n",
    "ax.view_init(90, 0)\n",
    "plt.show()\n"
   ]
  },
  {
   "cell_type": "code",
   "execution_count": 38,
   "metadata": {},
   "outputs": [],
   "source": [
    "# function to save dataset to h5\n",
    "def save_dataset(X, y, k, output):\n",
    "    with h5py.File(output, \"w\") as hf:\n",
    "        count = 0;\n",
    "        for i in trange(len(X)):\n",
    "            img = X[i].reshape(28, 28)\n",
    "            \n",
    "            cloud = img_to_point_cloud(img,k)\n",
    "            \n",
    "            if cloud is None:\n",
    "                print('Skipping the ', i, '-th image.')\n",
    "            else:\n",
    "                grp = hf.create_group(str(count))\n",
    "                grp.create_dataset(\"img\", data=img, compression=\"gzip\")\n",
    "                grp.create_dataset(\"points\", data=cloud, compression=\"gzip\")\n",
    "                grp.attrs[\"label\"] = y[count]\n",
    "                count += 1"
   ]
  },
  {
   "cell_type": "code",
   "execution_count": 39,
   "metadata": {},
   "outputs": [],
   "source": [
    "OUTPUT_TRAIN = \"data/train.h5\"\n",
    "N_TRAIN = 10\n",
    "OUTPUT_TEST = \"data/test.h5\"\n",
    "N_TEST = 10\n",
    "OUTPUT_VALID = \"data/valid.h5\"\n",
    "N_VALID = 10"
   ]
  },
  {
   "cell_type": "code",
   "execution_count": 40,
   "metadata": {},
   "outputs": [
    {
     "name": "stdout",
     "output_type": "stream",
     "text": [
      "data/train.h5 Already exists\n",
      "data/test.h5 Already exists\n"
     ]
    },
    {
     "ename": "NameError",
     "evalue": "name 'voxel' is not defined",
     "output_type": "error",
     "traceback": [
      "\u001b[0;31m---------------------------------------------------------------------------\u001b[0m",
      "\u001b[0;31mNameError\u001b[0m                                 Traceback (most recent call last)",
      "\u001b[0;32m<ipython-input-40-089e0bc30f7e>\u001b[0m in \u001b[0;36m<module>\u001b[0;34m\u001b[0m\n\u001b[1;32m     13\u001b[0m     \u001b[0mprint\u001b[0m \u001b[0;34m(\u001b[0m\u001b[0mOUTPUT_VALID\u001b[0m\u001b[0;34m,\u001b[0m \u001b[0;34m\"Already exists\"\u001b[0m\u001b[0;34m)\u001b[0m\u001b[0;34m\u001b[0m\u001b[0;34m\u001b[0m\u001b[0m\n\u001b[1;32m     14\u001b[0m \u001b[0;32melse\u001b[0m\u001b[0;34m:\u001b[0m\u001b[0;34m\u001b[0m\u001b[0;34m\u001b[0m\u001b[0m\n\u001b[0;32m---> 15\u001b[0;31m     \u001b[0msave_dataset\u001b[0m\u001b[0;34m(\u001b[0m\u001b[0mvalid_set\u001b[0m\u001b[0;34m[\u001b[0m\u001b[0;36m0\u001b[0m\u001b[0;34m]\u001b[0m\u001b[0;34m[\u001b[0m\u001b[0;34m:\u001b[0m\u001b[0mN_VALID\u001b[0m\u001b[0;34m]\u001b[0m\u001b[0;34m,\u001b[0m \u001b[0mvalid_set\u001b[0m\u001b[0;34m[\u001b[0m\u001b[0;36m1\u001b[0m\u001b[0;34m]\u001b[0m\u001b[0;34m[\u001b[0m\u001b[0;34m:\u001b[0m\u001b[0mN_VALID\u001b[0m\u001b[0;34m]\u001b[0m\u001b[0;34m,\u001b[0m \u001b[0mvoxel\u001b[0m\u001b[0;34m,\u001b[0m \u001b[0mOUTPUT_VALID\u001b[0m\u001b[0;34m)\u001b[0m\u001b[0;34m\u001b[0m\u001b[0;34m\u001b[0m\u001b[0m\n\u001b[0m",
      "\u001b[0;31mNameError\u001b[0m: name 'voxel' is not defined"
     ]
    }
   ],
   "source": [
    "k=30\n",
    "if os.path.exists(OUTPUT_TRAIN):\n",
    "    print (OUTPUT_TRAIN, \"Already exists\")\n",
    "else:\n",
    "    save_dataset(train_set[0][:N_TRAIN], train_set[1][:N_TRAIN], k, OUTPUT_TRAIN)\n",
    "\n",
    "if os.path.exists(OUTPUT_TEST):\n",
    "    print (OUTPUT_TEST, \"Already exists\")\n",
    "else:\n",
    "    save_dataset(test_set[0][:N_TEST], test_set[1][:N_TEST], k, OUTPUT_TEST)\n",
    "\n",
    "if os.path.exists(OUTPUT_VALID):\n",
    "    print (OUTPUT_VALID, \"Already exists\")\n",
    "else:\n",
    "    save_dataset(valid_set[0][:N_VALID], valid_set[1][:N_VALID], k, OUTPUT_VALID)"
   ]
  }
 ],
 "metadata": {
  "kernelspec": {
   "display_name": "Python 3 cvpset-venv",
   "language": "python",
   "name": "cvpset-venv"
  },
  "language_info": {
   "codemirror_mode": {
    "name": "ipython",
    "version": 3
   },
   "file_extension": ".py",
   "mimetype": "text/x-python",
   "name": "python",
   "nbconvert_exporter": "python",
   "pygments_lexer": "ipython3",
   "version": "3.7.4"
  }
 },
 "nbformat": 4,
 "nbformat_minor": 2
}
