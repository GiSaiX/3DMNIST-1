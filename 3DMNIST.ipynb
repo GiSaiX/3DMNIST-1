{
 "cells": [
  {
   "cell_type": "markdown",
   "metadata": {},
   "source": [
    "# Notebook to generate the 3DMNIST dataset"
   ]
  },
  {
   "cell_type": "code",
   "execution_count": 1,
   "metadata": {},
   "outputs": [
    {
     "name": "stderr",
     "output_type": "stream",
     "text": [
      "/usr/lib/python3/dist-packages/h5py/__init__.py:36: FutureWarning: Conversion of the second argument of issubdtype from `float` to `np.floating` is deprecated. In future, it will be treated as `np.float64 == np.dtype(float).type`.\n",
      "  from ._conv import register_converters as _register_converters\n"
     ]
    }
   ],
   "source": [
    "import gzip\n",
    "import h5py\n",
    "import pickle\n",
    "import os\n",
    "import numpy as np\n",
    "\n",
    "try:\n",
    "    from tqdm import trange\n",
    "except ImportError:\n",
    "    trange = range\n",
    "    \n",
    "from matplotlib import pyplot as plt\n",
    "\n",
    "%matplotlib inline\n",
    "plt.rcParams['image.interpolation'] = None\n",
    "plt.rcParams['image.cmap'] = 'gray'"
   ]
  },
  {
   "cell_type": "markdown",
   "metadata": {
    "collapsed": true
   },
   "source": [
    "## Load de original mnist dataset"
   ]
  },
  {
   "cell_type": "code",
   "execution_count": 2,
   "metadata": {},
   "outputs": [
    {
     "ename": "OSError",
     "evalue": "Not a gzipped file (b've')",
     "output_type": "error",
     "traceback": [
      "\u001b[0;31m---------------------------------------------------------------------------\u001b[0m",
      "\u001b[0;31mOSError\u001b[0m                                   Traceback (most recent call last)",
      "\u001b[0;32m<ipython-input-2-615026db4952>\u001b[0m in \u001b[0;36m<module>\u001b[0;34m()\u001b[0m\n\u001b[1;32m      1\u001b[0m \u001b[0mf\u001b[0m \u001b[0;34m=\u001b[0m \u001b[0mgzip\u001b[0m\u001b[0;34m.\u001b[0m\u001b[0mopen\u001b[0m\u001b[0;34m(\u001b[0m\u001b[0;34m'data/mnist.pkl.gz'\u001b[0m\u001b[0;34m,\u001b[0m \u001b[0;34m'rb'\u001b[0m\u001b[0;34m)\u001b[0m\u001b[0;34m\u001b[0m\u001b[0;34m\u001b[0m\u001b[0m\n\u001b[0;32m----> 2\u001b[0;31m \u001b[0mtrain_set\u001b[0m\u001b[0;34m,\u001b[0m \u001b[0mvalid_set\u001b[0m\u001b[0;34m,\u001b[0m \u001b[0mtest_set\u001b[0m \u001b[0;34m=\u001b[0m \u001b[0mpickle\u001b[0m\u001b[0;34m.\u001b[0m\u001b[0mload\u001b[0m\u001b[0;34m(\u001b[0m\u001b[0mf\u001b[0m\u001b[0;34m,\u001b[0m \u001b[0mencoding\u001b[0m\u001b[0;34m=\u001b[0m\u001b[0;34m\"iso-8859-1\"\u001b[0m\u001b[0;34m)\u001b[0m\u001b[0;34m\u001b[0m\u001b[0;34m\u001b[0m\u001b[0m\n\u001b[0m\u001b[1;32m      3\u001b[0m \u001b[0mf\u001b[0m\u001b[0;34m.\u001b[0m\u001b[0mclose\u001b[0m\u001b[0;34m(\u001b[0m\u001b[0;34m)\u001b[0m\u001b[0;34m\u001b[0m\u001b[0;34m\u001b[0m\u001b[0m\n",
      "\u001b[0;32m/usr/lib/python3.6/gzip.py\u001b[0m in \u001b[0;36mpeek\u001b[0;34m(self, n)\u001b[0m\n\u001b[1;32m    294\u001b[0m             \u001b[0;32mimport\u001b[0m \u001b[0merrno\u001b[0m\u001b[0;34m\u001b[0m\u001b[0;34m\u001b[0m\u001b[0m\n\u001b[1;32m    295\u001b[0m             \u001b[0;32mraise\u001b[0m \u001b[0mOSError\u001b[0m\u001b[0;34m(\u001b[0m\u001b[0merrno\u001b[0m\u001b[0;34m.\u001b[0m\u001b[0mEBADF\u001b[0m\u001b[0;34m,\u001b[0m \u001b[0;34m\"peek() on write-only GzipFile object\"\u001b[0m\u001b[0;34m)\u001b[0m\u001b[0;34m\u001b[0m\u001b[0;34m\u001b[0m\u001b[0m\n\u001b[0;32m--> 296\u001b[0;31m         \u001b[0;32mreturn\u001b[0m \u001b[0mself\u001b[0m\u001b[0;34m.\u001b[0m\u001b[0m_buffer\u001b[0m\u001b[0;34m.\u001b[0m\u001b[0mpeek\u001b[0m\u001b[0;34m(\u001b[0m\u001b[0mn\u001b[0m\u001b[0;34m)\u001b[0m\u001b[0;34m\u001b[0m\u001b[0;34m\u001b[0m\u001b[0m\n\u001b[0m\u001b[1;32m    297\u001b[0m \u001b[0;34m\u001b[0m\u001b[0m\n\u001b[1;32m    298\u001b[0m     \u001b[0;34m@\u001b[0m\u001b[0mproperty\u001b[0m\u001b[0;34m\u001b[0m\u001b[0;34m\u001b[0m\u001b[0m\n",
      "\u001b[0;32m/usr/lib/python3.6/_compression.py\u001b[0m in \u001b[0;36mreadinto\u001b[0;34m(self, b)\u001b[0m\n\u001b[1;32m     66\u001b[0m     \u001b[0;32mdef\u001b[0m \u001b[0mreadinto\u001b[0m\u001b[0;34m(\u001b[0m\u001b[0mself\u001b[0m\u001b[0;34m,\u001b[0m \u001b[0mb\u001b[0m\u001b[0;34m)\u001b[0m\u001b[0;34m:\u001b[0m\u001b[0;34m\u001b[0m\u001b[0;34m\u001b[0m\u001b[0m\n\u001b[1;32m     67\u001b[0m         \u001b[0;32mwith\u001b[0m \u001b[0mmemoryview\u001b[0m\u001b[0;34m(\u001b[0m\u001b[0mb\u001b[0m\u001b[0;34m)\u001b[0m \u001b[0;32mas\u001b[0m \u001b[0mview\u001b[0m\u001b[0;34m,\u001b[0m \u001b[0mview\u001b[0m\u001b[0;34m.\u001b[0m\u001b[0mcast\u001b[0m\u001b[0;34m(\u001b[0m\u001b[0;34m\"B\"\u001b[0m\u001b[0;34m)\u001b[0m \u001b[0;32mas\u001b[0m \u001b[0mbyte_view\u001b[0m\u001b[0;34m:\u001b[0m\u001b[0;34m\u001b[0m\u001b[0;34m\u001b[0m\u001b[0m\n\u001b[0;32m---> 68\u001b[0;31m             \u001b[0mdata\u001b[0m \u001b[0;34m=\u001b[0m \u001b[0mself\u001b[0m\u001b[0;34m.\u001b[0m\u001b[0mread\u001b[0m\u001b[0;34m(\u001b[0m\u001b[0mlen\u001b[0m\u001b[0;34m(\u001b[0m\u001b[0mbyte_view\u001b[0m\u001b[0;34m)\u001b[0m\u001b[0;34m)\u001b[0m\u001b[0;34m\u001b[0m\u001b[0;34m\u001b[0m\u001b[0m\n\u001b[0m\u001b[1;32m     69\u001b[0m             \u001b[0mbyte_view\u001b[0m\u001b[0;34m[\u001b[0m\u001b[0;34m:\u001b[0m\u001b[0mlen\u001b[0m\u001b[0;34m(\u001b[0m\u001b[0mdata\u001b[0m\u001b[0;34m)\u001b[0m\u001b[0;34m]\u001b[0m \u001b[0;34m=\u001b[0m \u001b[0mdata\u001b[0m\u001b[0;34m\u001b[0m\u001b[0;34m\u001b[0m\u001b[0m\n\u001b[1;32m     70\u001b[0m         \u001b[0;32mreturn\u001b[0m \u001b[0mlen\u001b[0m\u001b[0;34m(\u001b[0m\u001b[0mdata\u001b[0m\u001b[0;34m)\u001b[0m\u001b[0;34m\u001b[0m\u001b[0;34m\u001b[0m\u001b[0m\n",
      "\u001b[0;32m/usr/lib/python3.6/gzip.py\u001b[0m in \u001b[0;36mread\u001b[0;34m(self, size)\u001b[0m\n\u001b[1;32m    461\u001b[0m                 \u001b[0;31m# jump to the next member, if there is one.\u001b[0m\u001b[0;34m\u001b[0m\u001b[0;34m\u001b[0m\u001b[0;34m\u001b[0m\u001b[0m\n\u001b[1;32m    462\u001b[0m                 \u001b[0mself\u001b[0m\u001b[0;34m.\u001b[0m\u001b[0m_init_read\u001b[0m\u001b[0;34m(\u001b[0m\u001b[0;34m)\u001b[0m\u001b[0;34m\u001b[0m\u001b[0;34m\u001b[0m\u001b[0m\n\u001b[0;32m--> 463\u001b[0;31m                 \u001b[0;32mif\u001b[0m \u001b[0;32mnot\u001b[0m \u001b[0mself\u001b[0m\u001b[0;34m.\u001b[0m\u001b[0m_read_gzip_header\u001b[0m\u001b[0;34m(\u001b[0m\u001b[0;34m)\u001b[0m\u001b[0;34m:\u001b[0m\u001b[0;34m\u001b[0m\u001b[0;34m\u001b[0m\u001b[0m\n\u001b[0m\u001b[1;32m    464\u001b[0m                     \u001b[0mself\u001b[0m\u001b[0;34m.\u001b[0m\u001b[0m_size\u001b[0m \u001b[0;34m=\u001b[0m \u001b[0mself\u001b[0m\u001b[0;34m.\u001b[0m\u001b[0m_pos\u001b[0m\u001b[0;34m\u001b[0m\u001b[0;34m\u001b[0m\u001b[0m\n\u001b[1;32m    465\u001b[0m                     \u001b[0;32mreturn\u001b[0m \u001b[0;34mb\"\"\u001b[0m\u001b[0;34m\u001b[0m\u001b[0;34m\u001b[0m\u001b[0m\n",
      "\u001b[0;32m/usr/lib/python3.6/gzip.py\u001b[0m in \u001b[0;36m_read_gzip_header\u001b[0;34m(self)\u001b[0m\n\u001b[1;32m    409\u001b[0m \u001b[0;34m\u001b[0m\u001b[0m\n\u001b[1;32m    410\u001b[0m         \u001b[0;32mif\u001b[0m \u001b[0mmagic\u001b[0m \u001b[0;34m!=\u001b[0m \u001b[0;34mb'\\037\\213'\u001b[0m\u001b[0;34m:\u001b[0m\u001b[0;34m\u001b[0m\u001b[0;34m\u001b[0m\u001b[0m\n\u001b[0;32m--> 411\u001b[0;31m             \u001b[0;32mraise\u001b[0m \u001b[0mOSError\u001b[0m\u001b[0;34m(\u001b[0m\u001b[0;34m'Not a gzipped file (%r)'\u001b[0m \u001b[0;34m%\u001b[0m \u001b[0mmagic\u001b[0m\u001b[0;34m)\u001b[0m\u001b[0;34m\u001b[0m\u001b[0;34m\u001b[0m\u001b[0m\n\u001b[0m\u001b[1;32m    412\u001b[0m \u001b[0;34m\u001b[0m\u001b[0m\n\u001b[1;32m    413\u001b[0m         (method, flag,\n",
      "\u001b[0;31mOSError\u001b[0m: Not a gzipped file (b've')"
     ]
    }
   ],
   "source": [
    "f = gzip.open('data/mnist.pkl.gz', 'rb')\n",
    "train_set, valid_set, test_set = pickle.load(f, encoding=\"iso-8859-1\")\n",
    "f.close()"
   ]
  },
  {
   "cell_type": "code",
   "execution_count": 3,
   "metadata": {},
   "outputs": [
    {
     "data": {
      "text/plain": [
       "<matplotlib.image.AxesImage at 0x14af0335860>"
      ]
     },
     "execution_count": 3,
     "metadata": {},
     "output_type": "execute_result"
    },
    {
     "data": {
      "image/png": "[encoded data removed]",
      "text/plain": [
       "<matplotlib.figure.Figure at 0x14ae0fa0cf8>"
      ]
     },
     "metadata": {},
     "output_type": "display_data"
    }
   ],
   "source": [
    "plt.imshow(train_set[0][0].reshape(28,28))"
   ]
  },
  {
   "cell_type": "code",
   "execution_count": 4,
   "metadata": {},
   "outputs": [
    {
     "data": {
      "text/plain": [
       "<matplotlib.image.AxesImage at 0x14af06f75c0>"
      ]
     },
     "execution_count": 4,
     "metadata": {},
     "output_type": "execute_result"
    },
    {
     "data": {
      "image/png": "[encoded data removed]",
      "text/plain": [
       "<matplotlib.figure.Figure at 0x14af0304c18>"
      ]
     },
     "metadata": {},
     "output_type": "display_data"
    }
   ],
   "source": [
    "plt.imshow(test_set[0][0].reshape(28,28))"
   ]
  },
  {
   "cell_type": "code",
   "execution_count": 5,
   "metadata": {},
   "outputs": [
    {
     "data": {
      "text/plain": [
       "<matplotlib.image.AxesImage at 0x14af0760e48>"
      ]
     },
     "execution_count": 5,
     "metadata": {},
     "output_type": "execute_result"
    },
    {
     "data": {
      "image/png": "[encoded data removed]",
      "text/plain": [
       "<matplotlib.figure.Figure at 0x14af0703fd0>"
      ]
     },
     "metadata": {},
     "output_type": "display_data"
    }
   ],
   "source": [
    "plt.imshow(valid_set[0][0].reshape(28,28))"
   ]
  },
  {
   "cell_type": "markdown",
   "metadata": {},
   "source": [
    "## Function to convert image into 3D point cloud"
   ]
  },
  {
   "cell_type": "markdown",
   "metadata": {},
   "source": [
    "This function will:\n",
    "- Find the pixels coords whith non zero values.\n",
    "- Build a 3D point cloud representing the voxels associated to each non zero pixel coords."
   ]
  },
  {
   "cell_type": "code",
   "execution_count": 6,
   "metadata": {},
   "outputs": [],
   "source": [
    "def img_to_point_cloud(input_image, voxel):\n",
    "\n",
    "    non_zero_coord = np.transpose(np.nonzero(input_image))\n",
    "    \n",
    "    # dict for fast looking of neighboor ocupancy\n",
    "    non_zero_dict = {}\n",
    "    for i in range(input_image.shape[0]):\n",
    "        for j in range(input_image.shape[1]):\n",
    "            non_zero_dict[str([i,j])] = any(np.all([i,j] == non_zero_coord, axis=1))\n",
    "\n",
    "    cloud = []\n",
    "    \n",
    "    for n in range(len(non_zero_coord)):\n",
    "        x = non_zero_coord[n][0]\n",
    "        y = non_zero_coord[n][1]\n",
    "            \n",
    "        components = [0,1]\n",
    "        \n",
    "        # top\n",
    "        if not non_zero_dict[str([x-1, y])]:\n",
    "            components.append(2)\n",
    "        \n",
    "        # bottom\n",
    "        if not non_zero_dict[str([x+1, y])]:\n",
    "            components.append(3)\n",
    "        \n",
    "        # left\n",
    "        if not non_zero_dict[str([x, y-1])]:\n",
    "            components.append(4)\n",
    "        \n",
    "        # right\n",
    "        if not non_zero_dict[str([x, y+1])]:\n",
    "            components.append(5)\n",
    "        \n",
    "        pixel_cloud = np.concatenate(voxel[components])\n",
    "                \n",
    "        # move the voxel to its position\n",
    "        pixel_cloud[:,0] +=x\n",
    "        pixel_cloud[:,1] += y\n",
    "        \n",
    "        cloud.append(pixel_cloud)\n",
    "    \n",
    "    cloud = np.concatenate(cloud)\n",
    "    \n",
    "    # make max range 0-1\n",
    "    xyzmin = np.min(cloud[:,:3], axis=0)\n",
    "    xyzmax = np.max(cloud[:,:3], axis=0)\n",
    "    diff = xyzmax - xyzmin\n",
    "    cloud[:,:3] = ((cloud[:,:3] - xyzmin[np.argmax(diff)]) / diff[np.argmax(diff)])\n",
    "    \n",
    "    # 0 mean\n",
    "    cloud[:,:3] -= np.mean(cloud[:,:3], axis=0)\n",
    "\n",
    "    return cloud"
   ]
  },
  {
   "cell_type": "markdown",
   "metadata": {},
   "source": [
    "## Define voxel parameters"
   ]
  },
  {
   "cell_type": "code",
   "execution_count": 7,
   "metadata": {
    "collapsed": true
   },
   "outputs": [],
   "source": [
    "MIN_X, MAX_X = (-0.5, 0.5)\n",
    "MIN_Y, MAX_Y = (-0.5, 0.5)\n",
    "MIN_Z, MAX_Z = (-3, 3)\n",
    "\n",
    "N_X = 5\n",
    "N_Y = 5\n",
    "N_Z = 30"
   ]
  },
  {
   "cell_type": "code",
   "execution_count": 8,
   "metadata": {},
   "outputs": [],
   "source": [
    "# VOXEL CREATION\n",
    "# with normals\n",
    "\n",
    "front = np.array(np.meshgrid(np.linspace(MIN_X, MAX_X, N_X),\n",
    "                             np.linspace(MIN_Y, MAX_Y, N_Y),\n",
    "                             MAX_Z )).T.reshape(-1,3) \n",
    "front = np.concatenate((front, [[1,0,0]] * len(front)), axis=1)\n",
    "\n",
    "\n",
    "back = np.array(np.meshgrid(np.linspace(MIN_X, MAX_X, N_X), \n",
    "                            np.linspace(MIN_Y, MAX_Y, N_Y), \n",
    "                            MIN_Z )).T.reshape(-1,3)    \n",
    "back = np.concatenate((back, [[-1,0,0]] * len(back)), axis=1)\n",
    "\n",
    "\n",
    "top = np.array(np.meshgrid(MIN_X,\n",
    "                           np.linspace(MIN_Y, MAX_Y, N_Y), \n",
    "                           np.linspace(MIN_Z, MAX_Z, N_Z))).T.reshape(-1,3)\n",
    "top = np.concatenate((top, [[0,0,1]] * len(top)), axis=1)\n",
    "\n",
    "\n",
    "bottom = np.array(np.meshgrid(MAX_X, \n",
    "                              np.linspace(MIN_Y, MAX_Y, N_Y), \n",
    "                              np.linspace(MIN_Z, MAX_Z, N_Z))).T.reshape(-1,3) \n",
    "bottom = np.concatenate((bottom, [[0,0,-1]] * len(bottom)), axis=1)\n",
    "\n",
    "\n",
    "left = np.array(np.meshgrid(np.linspace(MIN_X, MAX_X, N_X), \n",
    "                            MIN_Y,\n",
    "                            np.linspace(MIN_Z, MAX_Z, N_Z))).T.reshape(-1,3)\n",
    "left = np.concatenate((left, [[0,-1,0]] * len(left)), axis=1)\n",
    "\n",
    "\n",
    "right = np.array(np.meshgrid(np.linspace(MIN_X, MAX_X, N_X), \n",
    "                             MAX_Y, \n",
    "                             np.linspace(MIN_Z, MAX_Z, N_Z))).T.reshape(-1,3)   \n",
    "right = np.concatenate((right, [[0,1,0]] * len(right)), axis=1)\n",
    "\n",
    "\n",
    "voxel = np.array([front, back, top, bottom, left, right])"
   ]
  },
  {
   "cell_type": "markdown",
   "metadata": {},
   "source": [
    "## Function to rotate along y axis"
   ]
  },
  {
   "cell_type": "code",
   "execution_count": 9,
   "metadata": {
    "collapsed": true
   },
   "outputs": [],
   "source": [
    "def Ry(angle, degrees=True):\n",
    "\n",
    "    if degrees:\n",
    "        \n",
    "        cy = np.cos(np.deg2rad(angle))\n",
    "        sy = np.sin(np.deg2rad(angle))\n",
    "        \n",
    "    else:\n",
    "        \n",
    "        cy = np.cos(angle)\n",
    "        sy = np.sin(angle)\n",
    "        \n",
    "    Ry = np.array(\n",
    "    [[cy , 0  , -sy, 0  ],\n",
    "     [0  , 1  , 0  , 0  ],\n",
    "     [sy , 0  , cy , 0  ],\n",
    "     [0  , 0  , 0  , 1  ]])\n",
    "    \n",
    "    return Ry"
   ]
  },
  {
   "cell_type": "markdown",
   "metadata": {},
   "source": [
    "## Function to save dataset to HDF5"
   ]
  },
  {
   "cell_type": "code",
   "execution_count": 10,
   "metadata": {},
   "outputs": [],
   "source": [
    "def save_dataset(X, y, voxel, output, shape=(28,28)):\n",
    "    \n",
    "    img = np.zeros((shape[0] + 2, shape[1] + 2))\n",
    "    \n",
    "    with h5py.File(output, \"w\") as hf:\n",
    "        \n",
    "        for i in trange(len(X)):\n",
    "            \n",
    "            img[1:-1,1:-1] = X[i].reshape(shape[0], shape[1])\n",
    "            data = img_to_point_cloud(img, voxel)\n",
    "            \n",
    "            # rotate to vertical\n",
    "            transf = np.c_[ data[:,:3], np.ones(data[:,:3].shape[0]) ]\n",
    "            transf = transf @ Ry(90)\n",
    "            data[:,:3] = transf[:,:-1]\n",
    "            \n",
    "            grp = hf.create_group(str(i))\n",
    "            grp.create_dataset(\"img\", data=img, compression=\"gzip\")\n",
    "            grp.create_dataset(\"points\", data=data[:,:3], compression=\"gzip\")\n",
    "            grp.create_dataset(\"normals\", data=data[:,3:], compression=\"gzip\",)\n",
    "            grp.attrs[\"label\"] = y[i]\n",
    "            "
   ]
  },
  {
   "cell_type": "markdown",
   "metadata": {},
   "source": [
    "## Define output directories"
   ]
  },
  {
   "cell_type": "code",
   "execution_count": 11,
   "metadata": {
    "collapsed": true
   },
   "outputs": [],
   "source": [
    "OUTPUT_TRAIN = \"D:/train.h5\"\n",
    "N_TRAIN = 5000\n",
    "OUTPUT_TEST = \"D:/test.h5\"\n",
    "N_TEST = 1000\n",
    "OUTPUT_VALID = \"D:/valid.h5\"\n",
    "N_VALID = 1000"
   ]
  },
  {
   "cell_type": "code",
   "execution_count": 12,
   "metadata": {},
   "outputs": [
    {
     "name": "stderr",
     "output_type": "stream",
     "text": [
      "100%|██████████████████████████████████████████████████████████████████████████████| 5000/5000 [03:45<00:00, 22.13it/s]\n"
     ]
    }
   ],
   "source": [
    "if os.path.exists(OUTPUT_TRAIN):\n",
    "    print (OUTPUT_TRAIN, \"Already exists\")\n",
    "else:\n",
    "    save_dataset(train_set[0][:N_TRAIN], train_set[1][:N_TRAIN], voxel, OUTPUT_TRAIN)"
   ]
  },
  {
   "cell_type": "code",
   "execution_count": 13,
   "metadata": {},
   "outputs": [
    {
     "name": "stderr",
     "output_type": "stream",
     "text": [
      "100%|██████████████████████████████████████████████████████████████████████████████| 1000/1000 [00:44<00:00, 21.87it/s]\n"
     ]
    }
   ],
   "source": [
    "if os.path.exists(OUTPUT_TEST):\n",
    "    print (OUTPUT_TEST, \"Already exists\")\n",
    "else:\n",
    "    save_dataset(test_set[0][:N_TEST], test_set[1][:N_TEST], voxel, OUTPUT_TEST)"
   ]
  },
  {
   "cell_type": "code",
   "execution_count": 14,
   "metadata": {},
   "outputs": [
    {
     "name": "stderr",
     "output_type": "stream",
     "text": [
      "100%|██████████████████████████████████████████████████████████████████████████████| 1000/1000 [00:44<00:00, 22.00it/s]\n"
     ]
    }
   ],
   "source": [
    "if os.path.exists(OUTPUT_VALID):\n",
    "    print (OUTPUT_VALID, \"Already exists\")\n",
    "else:\n",
    "    save_dataset(valid_set[0][:N_VALID], valid_set[1][:N_VALID], voxel, OUTPUT_VALID)"
   ]
  }
 ],
 "metadata": {
  "anaconda-cloud": {},
  "kernelspec": {
   "display_name": "Python 3 cvpset-venv",
   "language": "python",
   "name": "cvpset-venv"
  },
  "language_info": {
   "codemirror_mode": {
    "name": "ipython",
    "version": 3
   },
   "file_extension": ".py",
   "mimetype": "text/x-python",
   "name": "python",
   "nbconvert_exporter": "python",
   "pygments_lexer": "ipython3",
   "version": "3.7.4"
  }
 },
 "nbformat": 4,
 "nbformat_minor": 1
}
